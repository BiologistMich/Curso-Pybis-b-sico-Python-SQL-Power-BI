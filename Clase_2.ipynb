{
  "nbformat": 4,
  "nbformat_minor": 0,
  "metadata": {
    "colab": {
      "provenance": [],
      "authorship_tag": "ABX9TyNx3fFEVFwTg6KTBjKOUMWU",
      "include_colab_link": true
    },
    "kernelspec": {
      "name": "python3",
      "display_name": "Python 3"
    },
    "language_info": {
      "name": "python"
    }
  },
  "cells": [
    {
      "cell_type": "markdown",
      "metadata": {
        "id": "view-in-github",
        "colab_type": "text"
      },
      "source": [
        "<a href=\"https://colab.research.google.com/github/BiologistMich/Curso-Pybis-b-sico-Python-SQL-Power-BI/blob/main/Clase_2.ipynb\" target=\"_parent\"><img src=\"https://colab.research.google.com/assets/colab-badge.svg\" alt=\"Open In Colab\"/></a>"
      ]
    },
    {
      "cell_type": "markdown",
      "source": [
        "**Clase 2**\n"
      ],
      "metadata": {
        "id": "laNHxU5dazE5"
      }
    },
    {
      "cell_type": "code",
      "execution_count": 16,
      "metadata": {
        "colab": {
          "base_uri": "https://localhost:8080/"
        },
        "id": "snNrOsEFXRKo",
        "outputId": "47cccbe3-6b24-4842-df86-cedffef88f7e"
      },
      "outputs": [
        {
          "output_type": "stream",
          "name": "stdout",
          "text": [
            "=====================\n",
            "DATOS DE ALUMNO DEL CURSO\n",
            "=====================\n",
            "👧🏻👦🏻Nombre = Michell\n",
            "🗓️Edad= 29\n",
            "📖Promedio= 10.0\n",
            "☑️Inscrito en curso= True\n",
            "¿Inscrito en el curso?Sí\n",
            "=====================\n"
          ]
        }
      ],
      "source": [
        "nombre=\"Michell\"\n",
        "edad= 29\n",
        "Promedio= 10.0\n",
        "Inscrito= True\n",
        "\n",
        "print(\"=====================\")\n",
        "print(\"DATOS DE ALUMNO DEL CURSO\")\n",
        "print(\"=====================\")\n",
        "print(\"👧🏻👦🏻Nombre =\",nombre)\n",
        "print(\"🗓️Edad=\",edad)\n",
        "print(\"📖Promedio=\",Promedio)\n",
        "print(\"☑️Inscrito en curso=\",Inscrito)\n",
        "print(\"=====================\")\n",
        "\n",
        "\n"
      ]
    },
    {
      "cell_type": "markdown",
      "source": [
        "**f-string**\n",
        "* Strings dinámicas\n",
        "* Se definen como f \" \"\n",
        "* Le puedes meter variables y cálculos a tus cadenas de texto"
      ],
      "metadata": {
        "id": "AYYTUl0TagL6"
      }
    },
    {
      "cell_type": "code",
      "source": [
        "# definimos nuestro primer f-string\n",
        "\n",
        "nombre= \"Michell Romero\"\n",
        "print (f\"Hola {nombre}\")"
      ],
      "metadata": {
        "colab": {
          "base_uri": "https://localhost:8080/"
        },
        "id": "vdu2979ka7TU",
        "outputId": "5eb52c5e-b9a8-44f4-fb10-315f711bb57e"
      },
      "execution_count": 13,
      "outputs": [
        {
          "output_type": "stream",
          "name": "stdout",
          "text": [
            "Hola Michell Romero\n"
          ]
        }
      ]
    },
    {
      "cell_type": "markdown",
      "source": [
        "Definir nuestra primer lista\n"
      ],
      "metadata": {
        "id": "fC0cuMlfawMm"
      }
    },
    {
      "cell_type": "code",
      "source": [
        "listasuper=[\"Refresco\", \"Jabón\", \"Cereal\"]\n",
        "listasuper"
      ],
      "metadata": {
        "colab": {
          "base_uri": "https://localhost:8080/"
        },
        "id": "9_HsqidLe7SA",
        "outputId": "3bb7fd7d-0205-485d-9ea0-1a1e7b328752"
      },
      "execution_count": 18,
      "outputs": [
        {
          "output_type": "execute_result",
          "data": {
            "text/plain": [
              "['Refresco', 'Jabón', 'Cereal']"
            ]
          },
          "metadata": {},
          "execution_count": 18
        }
      ]
    },
    {
      "cell_type": "code",
      "source": [
        "# agregar un elemento nuevo a la lista con .append\n",
        "print(listasuper)\n",
        "\n",
        "listasuper.append(\"🦉\")"
      ],
      "metadata": {
        "colab": {
          "base_uri": "https://localhost:8080/"
        },
        "id": "dBvAS6_kfcOF",
        "outputId": "cded34d5-5fc9-48ff-c5f8-ee6217fc2689"
      },
      "execution_count": 22,
      "outputs": [
        {
          "output_type": "stream",
          "name": "stdout",
          "text": [
            "['Refresco', 'Jabón', 'Cereal', '🦉']\n"
          ]
        }
      ]
    },
    {
      "cell_type": "code",
      "source": [
        "# definir una lista vacía\n",
        "\n",
        "listavacia = []\n",
        "print(listavacia)\n",
        "\n",
        "listavacia.append(\"😊\")\n",
        "print(listavacia)"
      ],
      "metadata": {
        "colab": {
          "base_uri": "https://localhost:8080/"
        },
        "id": "rhLzpL-vfuwC",
        "outputId": "f243f95f-f000-4be1-eafb-8e17dc7c6470"
      },
      "execution_count": 40,
      "outputs": [
        {
          "output_type": "stream",
          "name": "stdout",
          "text": [
            "[]\n",
            "['😊']\n"
          ]
        }
      ]
    },
    {
      "cell_type": "markdown",
      "source": [
        "Librerias\n",
        "\n",
        "Pandas: Analisis, manejo, limpieza, procesamiento\n",
        "NumPy: Análisis numérico (simulación montecarlo)\n",
        "TensorFlow, Keras: implementar redes neuronales artificiales en python\n",
        "Scikit-learn: Algoritmos de ML\n",
        "Turtle: Hacer videojuegos en python\n",
        "Django/Flask: Desarrollo de páginas web\n",
        "random: Selecciones aleatorias\n"
      ],
      "metadata": {
        "id": "u89rwqCwhanv"
      }
    },
    {
      "cell_type": "code",
      "source": [
        "#Librería random\n",
        "# 1. choice (lista)\n",
        "# 2. randint (a,b)\n",
        "\n",
        "# como cargar librerias en python\n",
        "\n",
        "# import + nombre de la libreria + apodo\n",
        "# alias / apodos = simplificar\n",
        "\n",
        "#================================00\n",
        "\n",
        "import random as r\n",
        "\n",
        "print(listasuper)\n",
        "\n",
        "r.choice(listasuper) #selecciona valores aleatorios"
      ],
      "metadata": {
        "colab": {
          "base_uri": "https://localhost:8080/",
          "height": 53
        },
        "id": "nABuHP0WiJ0R",
        "outputId": "ee52edbf-7542-4194-c5f9-6285da743521"
      },
      "execution_count": 48,
      "outputs": [
        {
          "output_type": "stream",
          "name": "stdout",
          "text": [
            "['Refresco', 'Jabón', 'Cereal', '🦉', '🦉']\n"
          ]
        },
        {
          "output_type": "execute_result",
          "data": {
            "text/plain": [
              "'🦉'"
            ],
            "application/vnd.google.colaboratory.intrinsic+json": {
              "type": "string"
            }
          },
          "metadata": {},
          "execution_count": 48
        }
      ]
    },
    {
      "cell_type": "markdown",
      "source": [
        "Automatización del ticket de venta"
      ],
      "metadata": {
        "id": "EiV9WHDKmcor"
      }
    },
    {
      "cell_type": "code",
      "source": [
        "productos_papeleria = [\"Lápiz\", \"Bolígrafo\", \"Pluma fuente\", \"Portaminas\", \"Goma de borrar\", \"Sacapuntas\",\n",
        "                       \"Tijeras\", \"Regla\", \"Compás\", \"Transportador\", \"Marcador permanente\", \"Marcador fluorescente\",\n",
        "                       \"Crayones\", \"Colores de madera\", \"Acuarelas\", \"Pinceles\", \"Cartulina\", \"Papel bond\", \"Papel milimétrico\",\n",
        "                       \"Post-it\", \"Bloc de notas\", \"Cuaderno de rayas\", \"Cuaderno de cuadros\", \"Cuaderno profesional\", \"Agenda\",\n",
        "                       \"Calendario de escritorio\", \"Carpeta de anillas\", \"Carpeta con broche\", \"Carpeta tipo acordeón\", \"Folder manila\",\n",
        "                       \"Micas plásticas\", \"Separadores\", \"Clips\", \"Sujetapapeles\", \"Engrapadora\", \"Grapas\", \"Perforadora\", \"Cinta adhesiva\",\n",
        "                       \"Cinta doble cara\", \"Cinta masking\", \"Corrector líquido\", \"Corrector en cinta\", \"Pegamento en barra\",\n",
        "                       \"Pegamento líquido\", \"Silicón frío\", \"Silicón caliente\", \"Rotulador de pizarra\", \"Papel kraft\",\n",
        "                       \"Papel fotográfico\", \"Plastilina\", \"Notas adhesivas de colores\"]\n",
        "\n",
        "cajero = [\"Sofía\", \"Diego\", \"Valentina\", \"Carlos\", \"Mariana\", \"Jorge\", \"Fernanda\", \"Ricardo\", \"Camila\", \"Andrés\"]\n",
        "\n"
      ],
      "metadata": {
        "id": "zyrb4IsQmj30"
      },
      "execution_count": 202,
      "outputs": []
    },
    {
      "cell_type": "code",
      "source": [
        "# se pueden definir las variables con sus respectivas funciones antes\n",
        "\n",
        "cajeros = r.choice(cajero)\n",
        "print(cajeros)\n",
        ""
      ],
      "metadata": {
        "colab": {
          "base_uri": "https://localhost:8080/"
        },
        "id": "af_k7hHgqF-v",
        "outputId": "0a390789-d263-40aa-c47b-defbf722ab55"
      },
      "execution_count": 207,
      "outputs": [
        {
          "output_type": "stream",
          "name": "stdout",
          "text": [
            "Ricardo\n"
          ]
        }
      ]
    },
    {
      "cell_type": "code",
      "source": [
        "cajeros = r.choice(cajero) #las variables denem estar definidas en el mismo bloque de código\n",
        "\n",
        "print(\"***********************************\")\n",
        "# print() vacio ---> salto de linea\n",
        "print()\n",
        "print(\"📆 Fecha: 2025-08-19\")\n",
        "print(\"🤖 Cajero:\", cajeros)\n",
        "print(f\"🚀 Producto vendido: {r.choice(productos_papeleria)}\")\n",
        "print()\n",
        "print(\"***********************************\")\n",
        "print(\"Cantidad Vendida: 3\")\n",
        "print(f\"💸Precio: ${r.randint(2,900)}\")\n",
        "print(\"Total ticket: $15,000.00\")\n",
        "print(\"🏪 Sucursal: Centro\")\n",
        "# print vacío = print()---> salto de línea\n",
        "print()\n",
        "print(\"***********************************\")"
      ],
      "metadata": {
        "colab": {
          "base_uri": "https://localhost:8080/"
        },
        "id": "3lQomrbSma0x",
        "outputId": "803e7eb7-7cd1-4217-ba4f-36c97d6162f6"
      },
      "execution_count": 216,
      "outputs": [
        {
          "output_type": "stream",
          "name": "stdout",
          "text": [
            "***********************************\n",
            "\n",
            "📆 Fecha: 2025-08-19\n",
            "🤖 Cajero: Carlos\n",
            "🚀 Producto vendido: Papel milimétrico\n",
            "\n",
            "***********************************\n",
            "Cantidad Vendida: 3\n",
            "💸Precio: $396\n",
            "Total ticket: $15,000.00\n",
            "🏪 Sucursal: Centro\n",
            "\n",
            "***********************************\n"
          ]
        }
      ]
    },
    {
      "cell_type": "code",
      "source": [],
      "metadata": {
        "id": "56vY0NKOmgMx"
      },
      "execution_count": null,
      "outputs": []
    }
  ]
}