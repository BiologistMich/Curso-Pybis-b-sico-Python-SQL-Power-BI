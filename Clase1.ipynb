{
  "nbformat": 4,
  "nbformat_minor": 0,
  "metadata": {
    "colab": {
      "provenance": [],
      "authorship_tag": "ABX9TyM2qqru2h5gJTwAO9kECdN+",
      "include_colab_link": true
    },
    "kernelspec": {
      "name": "python3",
      "display_name": "Python 3"
    },
    "language_info": {
      "name": "python"
    }
  },
  "cells": [
    {
      "cell_type": "markdown",
      "metadata": {
        "id": "view-in-github",
        "colab_type": "text"
      },
      "source": [
        "<a href=\"https://colab.research.google.com/github/BiologistMich/Curso-Pybis-b-sico-Python-SQL-Power-BI/blob/main/Clase1.ipynb\" target=\"_parent\"><img src=\"https://colab.research.google.com/assets/colab-badge.svg\" alt=\"Open In Colab\"/></a>"
      ]
    },
    {
      "cell_type": "markdown",
      "source": [
        "Esta es una celda de texto que sirve para describir  código\n",
        "\n",
        "print: imprimir cosas\n"
      ],
      "metadata": {
        "id": "1c3brnRjIkR-"
      }
    },
    {
      "cell_type": "code",
      "execution_count": 4,
      "metadata": {
        "colab": {
          "base_uri": "https://localhost:8080/"
        },
        "id": "dz9VS6BdFIdO",
        "outputId": "e704af32-2390-4ee0-9afe-03414ba429b5"
      },
      "outputs": [
        {
          "output_type": "stream",
          "name": "stdout",
          "text": [
            "2\n",
            "2000\n",
            "2 0.0025380710659898475 4 Hola mundo\n"
          ]
        }
      ],
      "source": [
        "# poniendo comentarios al código\n",
        "\n",
        "1 + 1\n",
        "\n",
        "print(1 + 1) #para imprimir ambas operaciones\n",
        "print( 1*2000)\n",
        "\n",
        "print (1+1, 2/788, 2**2, \"Hola mundo\") #varios tipos de datos y operaciones en un print"
      ]
    },
    {
      "cell_type": "markdown",
      "source": [
        "Tipos de datos en python\n",
        "\n",
        "Números enteros: integers- int\n",
        "Números decimales: floats - float\n",
        "Cadenas de texto: strings - str\n",
        "\n",
        "Para definir cadneas de texto: \"\""
      ],
      "metadata": {
        "id": "A19RT5cdMgHW"
      }
    },
    {
      "cell_type": "code",
      "source": [
        "# definiendo primera cadena de texto\n",
        "\"🦉Hola mundo\""
      ],
      "metadata": {
        "colab": {
          "base_uri": "https://localhost:8080/",
          "height": 35
        },
        "id": "cfRSLNePNVcK",
        "outputId": "4287a3f0-f0fa-4b34-80ed-fbe6e4688d3e"
      },
      "execution_count": 10,
      "outputs": [
        {
          "output_type": "execute_result",
          "data": {
            "text/plain": [
              "'🦉Hola mundo'"
            ],
            "application/vnd.google.colaboratory.intrinsic+json": {
              "type": "string"
            }
          },
          "metadata": {},
          "execution_count": 10
        }
      ]
    },
    {
      "cell_type": "markdown",
      "source": [
        "imprimir un ticket de venta en una papelería"
      ],
      "metadata": {
        "id": "Z2dxsLm_PXXg"
      }
    }
  ]
}